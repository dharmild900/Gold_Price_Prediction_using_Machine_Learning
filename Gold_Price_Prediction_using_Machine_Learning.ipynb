{
  "nbformat": 4,
  "nbformat_minor": 0,
  "metadata": {
    "colab": {
      "name": "Gold Price Prediction using Machine Learning.ipynb",
      "provenance": [],
      "authorship_tag": "ABX9TyM4VjmOENfbhP9dh0xczBpr",
      "include_colab_link": true
    },
    "kernelspec": {
      "name": "python3",
      "display_name": "Python 3"
    },
    "language_info": {
      "name": "python"
    }
  },
  "cells": [
    {
      "cell_type": "markdown",
      "metadata": {
        "id": "view-in-github",
        "colab_type": "text"
      },
      "source": [
        "<a href=\"https://colab.research.google.com/github/dharmild900/Gold_Price_Prediction_using_Machine_Learning/blob/main/Gold_Price_Prediction_using_Machine_Learning.ipynb\" target=\"_parent\"><img src=\"https://colab.research.google.com/assets/colab-badge.svg\" alt=\"Open In Colab\"/></a>"
      ]
    },
    {
      "cell_type": "markdown",
      "metadata": {
        "id": "vP6v1lUzzzpZ"
      },
      "source": [
        "importing the Libraries"
      ]
    },
    {
      "cell_type": "code",
      "metadata": {
        "id": "MX0XwcKszcaV"
      },
      "source": [
        "import numpy as np\n",
        "import pandas as pd\n",
        "import matplotlib.pyplot as plt\n",
        "import seaborn as sns\n",
        "from sklearn.model_selection import train_test_split\n",
        "from sklearn.ensemble import RandomForestRegressor\n",
        "from sklearn import metrics"
      ],
      "execution_count": 1,
      "outputs": []
    },
    {
      "cell_type": "markdown",
      "metadata": {
        "id": "LeHlL-Ex0G4Q"
      },
      "source": [
        "Data Collection and Processing"
      ]
    },
    {
      "cell_type": "code",
      "metadata": {
        "id": "lITjRTol0Eky"
      },
      "source": [
        "gold_data = pd.read_csv('/content/gld_price_data.csv')"
      ],
      "execution_count": 2,
      "outputs": []
    },
    {
      "cell_type": "code",
      "metadata": {
        "colab": {
          "base_uri": "https://localhost:8080/",
          "height": 206
        },
        "id": "tU7lKU-t0OJK",
        "outputId": "b78ce9f0-c0b3-4eef-d5e9-8c79abe4a846"
      },
      "source": [
        "#print first 5 rows in the dataframe\n",
        "gold_data.head()"
      ],
      "execution_count": 3,
      "outputs": [
        {
          "output_type": "execute_result",
          "data": {
            "text/html": [
              "<div>\n",
              "<style scoped>\n",
              "    .dataframe tbody tr th:only-of-type {\n",
              "        vertical-align: middle;\n",
              "    }\n",
              "\n",
              "    .dataframe tbody tr th {\n",
              "        vertical-align: top;\n",
              "    }\n",
              "\n",
              "    .dataframe thead th {\n",
              "        text-align: right;\n",
              "    }\n",
              "</style>\n",
              "<table border=\"1\" class=\"dataframe\">\n",
              "  <thead>\n",
              "    <tr style=\"text-align: right;\">\n",
              "      <th></th>\n",
              "      <th>Date</th>\n",
              "      <th>SPX</th>\n",
              "      <th>GLD</th>\n",
              "      <th>USO</th>\n",
              "      <th>SLV</th>\n",
              "      <th>EUR/USD</th>\n",
              "    </tr>\n",
              "  </thead>\n",
              "  <tbody>\n",
              "    <tr>\n",
              "      <th>0</th>\n",
              "      <td>1/2/2008</td>\n",
              "      <td>1447.160034</td>\n",
              "      <td>84.860001</td>\n",
              "      <td>78.470001</td>\n",
              "      <td>15.180</td>\n",
              "      <td>1.471692</td>\n",
              "    </tr>\n",
              "    <tr>\n",
              "      <th>1</th>\n",
              "      <td>1/3/2008</td>\n",
              "      <td>1447.160034</td>\n",
              "      <td>85.570000</td>\n",
              "      <td>78.370003</td>\n",
              "      <td>15.285</td>\n",
              "      <td>1.474491</td>\n",
              "    </tr>\n",
              "    <tr>\n",
              "      <th>2</th>\n",
              "      <td>1/4/2008</td>\n",
              "      <td>1411.630005</td>\n",
              "      <td>85.129997</td>\n",
              "      <td>77.309998</td>\n",
              "      <td>15.167</td>\n",
              "      <td>1.475492</td>\n",
              "    </tr>\n",
              "    <tr>\n",
              "      <th>3</th>\n",
              "      <td>1/7/2008</td>\n",
              "      <td>1416.180054</td>\n",
              "      <td>84.769997</td>\n",
              "      <td>75.500000</td>\n",
              "      <td>15.053</td>\n",
              "      <td>1.468299</td>\n",
              "    </tr>\n",
              "    <tr>\n",
              "      <th>4</th>\n",
              "      <td>1/8/2008</td>\n",
              "      <td>1390.189941</td>\n",
              "      <td>86.779999</td>\n",
              "      <td>76.059998</td>\n",
              "      <td>15.590</td>\n",
              "      <td>1.557099</td>\n",
              "    </tr>\n",
              "  </tbody>\n",
              "</table>\n",
              "</div>"
            ],
            "text/plain": [
              "       Date          SPX        GLD        USO     SLV   EUR/USD\n",
              "0  1/2/2008  1447.160034  84.860001  78.470001  15.180  1.471692\n",
              "1  1/3/2008  1447.160034  85.570000  78.370003  15.285  1.474491\n",
              "2  1/4/2008  1411.630005  85.129997  77.309998  15.167  1.475492\n",
              "3  1/7/2008  1416.180054  84.769997  75.500000  15.053  1.468299\n",
              "4  1/8/2008  1390.189941  86.779999  76.059998  15.590  1.557099"
            ]
          },
          "metadata": {
            "tags": []
          },
          "execution_count": 3
        }
      ]
    },
    {
      "cell_type": "code",
      "metadata": {
        "colab": {
          "base_uri": "https://localhost:8080/",
          "height": 206
        },
        "id": "fbgb_oeD0h_Y",
        "outputId": "83ac4c30-f568-485d-df93-48a57417d7f3"
      },
      "source": [
        "#print last 5 rows of the dataframe\n",
        "gold_data.tail()"
      ],
      "execution_count": 5,
      "outputs": [
        {
          "output_type": "execute_result",
          "data": {
            "text/html": [
              "<div>\n",
              "<style scoped>\n",
              "    .dataframe tbody tr th:only-of-type {\n",
              "        vertical-align: middle;\n",
              "    }\n",
              "\n",
              "    .dataframe tbody tr th {\n",
              "        vertical-align: top;\n",
              "    }\n",
              "\n",
              "    .dataframe thead th {\n",
              "        text-align: right;\n",
              "    }\n",
              "</style>\n",
              "<table border=\"1\" class=\"dataframe\">\n",
              "  <thead>\n",
              "    <tr style=\"text-align: right;\">\n",
              "      <th></th>\n",
              "      <th>Date</th>\n",
              "      <th>SPX</th>\n",
              "      <th>GLD</th>\n",
              "      <th>USO</th>\n",
              "      <th>SLV</th>\n",
              "      <th>EUR/USD</th>\n",
              "    </tr>\n",
              "  </thead>\n",
              "  <tbody>\n",
              "    <tr>\n",
              "      <th>2285</th>\n",
              "      <td>5/8/2018</td>\n",
              "      <td>2671.919922</td>\n",
              "      <td>124.589996</td>\n",
              "      <td>14.0600</td>\n",
              "      <td>15.5100</td>\n",
              "      <td>1.186789</td>\n",
              "    </tr>\n",
              "    <tr>\n",
              "      <th>2286</th>\n",
              "      <td>5/9/2018</td>\n",
              "      <td>2697.790039</td>\n",
              "      <td>124.330002</td>\n",
              "      <td>14.3700</td>\n",
              "      <td>15.5300</td>\n",
              "      <td>1.184722</td>\n",
              "    </tr>\n",
              "    <tr>\n",
              "      <th>2287</th>\n",
              "      <td>5/10/2018</td>\n",
              "      <td>2723.070068</td>\n",
              "      <td>125.180000</td>\n",
              "      <td>14.4100</td>\n",
              "      <td>15.7400</td>\n",
              "      <td>1.191753</td>\n",
              "    </tr>\n",
              "    <tr>\n",
              "      <th>2288</th>\n",
              "      <td>5/14/2018</td>\n",
              "      <td>2730.129883</td>\n",
              "      <td>124.489998</td>\n",
              "      <td>14.3800</td>\n",
              "      <td>15.5600</td>\n",
              "      <td>1.193118</td>\n",
              "    </tr>\n",
              "    <tr>\n",
              "      <th>2289</th>\n",
              "      <td>5/16/2018</td>\n",
              "      <td>2725.780029</td>\n",
              "      <td>122.543800</td>\n",
              "      <td>14.4058</td>\n",
              "      <td>15.4542</td>\n",
              "      <td>1.182033</td>\n",
              "    </tr>\n",
              "  </tbody>\n",
              "</table>\n",
              "</div>"
            ],
            "text/plain": [
              "           Date          SPX         GLD      USO      SLV   EUR/USD\n",
              "2285   5/8/2018  2671.919922  124.589996  14.0600  15.5100  1.186789\n",
              "2286   5/9/2018  2697.790039  124.330002  14.3700  15.5300  1.184722\n",
              "2287  5/10/2018  2723.070068  125.180000  14.4100  15.7400  1.191753\n",
              "2288  5/14/2018  2730.129883  124.489998  14.3800  15.5600  1.193118\n",
              "2289  5/16/2018  2725.780029  122.543800  14.4058  15.4542  1.182033"
            ]
          },
          "metadata": {
            "tags": []
          },
          "execution_count": 5
        }
      ]
    },
    {
      "cell_type": "code",
      "metadata": {
        "colab": {
          "base_uri": "https://localhost:8080/"
        },
        "id": "wH7LgbWP1KsU",
        "outputId": "b9123b76-da8e-4c87-bd59-5f9abb8f9d6f"
      },
      "source": [
        " #number of rows and columns\n",
        " gold_data.shape"
      ],
      "execution_count": 8,
      "outputs": [
        {
          "output_type": "execute_result",
          "data": {
            "text/plain": [
              "(2290, 6)"
            ]
          },
          "metadata": {
            "tags": []
          },
          "execution_count": 8
        }
      ]
    },
    {
      "cell_type": "code",
      "metadata": {
        "colab": {
          "base_uri": "https://localhost:8080/"
        },
        "id": "OyCF4Ru81iZe",
        "outputId": "da81447a-e0f6-47de-d401-3f3a9fff85a9"
      },
      "source": [
        "#getting some basic imformation about the data\n",
        "gold_data.info()"
      ],
      "execution_count": 9,
      "outputs": [
        {
          "output_type": "stream",
          "text": [
            "<class 'pandas.core.frame.DataFrame'>\n",
            "RangeIndex: 2290 entries, 0 to 2289\n",
            "Data columns (total 6 columns):\n",
            " #   Column   Non-Null Count  Dtype  \n",
            "---  ------   --------------  -----  \n",
            " 0   Date     2290 non-null   object \n",
            " 1   SPX      2290 non-null   float64\n",
            " 2   GLD      2290 non-null   float64\n",
            " 3   USO      2290 non-null   float64\n",
            " 4   SLV      2290 non-null   float64\n",
            " 5   EUR/USD  2290 non-null   float64\n",
            "dtypes: float64(5), object(1)\n",
            "memory usage: 107.5+ KB\n"
          ],
          "name": "stdout"
        }
      ]
    },
    {
      "cell_type": "code",
      "metadata": {
        "colab": {
          "base_uri": "https://localhost:8080/"
        },
        "id": "an1J9VQb2mML",
        "outputId": "b339dbc6-1123-4481-d81d-ccd3609d7c11"
      },
      "source": [
        "#checking number of missing values in the data\n",
        "gold_data.isnull().sum()"
      ],
      "execution_count": 10,
      "outputs": [
        {
          "output_type": "execute_result",
          "data": {
            "text/plain": [
              "Date       0\n",
              "SPX        0\n",
              "GLD        0\n",
              "USO        0\n",
              "SLV        0\n",
              "EUR/USD    0\n",
              "dtype: int64"
            ]
          },
          "metadata": {
            "tags": []
          },
          "execution_count": 10
        }
      ]
    },
    {
      "cell_type": "code",
      "metadata": {
        "colab": {
          "base_uri": "https://localhost:8080/",
          "height": 300
        },
        "id": "_ebRsKk-3H-D",
        "outputId": "f58e366a-c712-46fd-c46e-53df35eec74f"
      },
      "source": [
        "#getting some statistical measures of the data\n",
        "gold_data.describe()"
      ],
      "execution_count": 12,
      "outputs": [
        {
          "output_type": "execute_result",
          "data": {
            "text/html": [
              "<div>\n",
              "<style scoped>\n",
              "    .dataframe tbody tr th:only-of-type {\n",
              "        vertical-align: middle;\n",
              "    }\n",
              "\n",
              "    .dataframe tbody tr th {\n",
              "        vertical-align: top;\n",
              "    }\n",
              "\n",
              "    .dataframe thead th {\n",
              "        text-align: right;\n",
              "    }\n",
              "</style>\n",
              "<table border=\"1\" class=\"dataframe\">\n",
              "  <thead>\n",
              "    <tr style=\"text-align: right;\">\n",
              "      <th></th>\n",
              "      <th>SPX</th>\n",
              "      <th>GLD</th>\n",
              "      <th>USO</th>\n",
              "      <th>SLV</th>\n",
              "      <th>EUR/USD</th>\n",
              "    </tr>\n",
              "  </thead>\n",
              "  <tbody>\n",
              "    <tr>\n",
              "      <th>count</th>\n",
              "      <td>2290.000000</td>\n",
              "      <td>2290.000000</td>\n",
              "      <td>2290.000000</td>\n",
              "      <td>2290.000000</td>\n",
              "      <td>2290.000000</td>\n",
              "    </tr>\n",
              "    <tr>\n",
              "      <th>mean</th>\n",
              "      <td>1654.315776</td>\n",
              "      <td>122.732875</td>\n",
              "      <td>31.842221</td>\n",
              "      <td>20.084997</td>\n",
              "      <td>1.283653</td>\n",
              "    </tr>\n",
              "    <tr>\n",
              "      <th>std</th>\n",
              "      <td>519.111540</td>\n",
              "      <td>23.283346</td>\n",
              "      <td>19.523517</td>\n",
              "      <td>7.092566</td>\n",
              "      <td>0.131547</td>\n",
              "    </tr>\n",
              "    <tr>\n",
              "      <th>min</th>\n",
              "      <td>676.530029</td>\n",
              "      <td>70.000000</td>\n",
              "      <td>7.960000</td>\n",
              "      <td>8.850000</td>\n",
              "      <td>1.039047</td>\n",
              "    </tr>\n",
              "    <tr>\n",
              "      <th>25%</th>\n",
              "      <td>1239.874969</td>\n",
              "      <td>109.725000</td>\n",
              "      <td>14.380000</td>\n",
              "      <td>15.570000</td>\n",
              "      <td>1.171313</td>\n",
              "    </tr>\n",
              "    <tr>\n",
              "      <th>50%</th>\n",
              "      <td>1551.434998</td>\n",
              "      <td>120.580002</td>\n",
              "      <td>33.869999</td>\n",
              "      <td>17.268500</td>\n",
              "      <td>1.303296</td>\n",
              "    </tr>\n",
              "    <tr>\n",
              "      <th>75%</th>\n",
              "      <td>2073.010070</td>\n",
              "      <td>132.840004</td>\n",
              "      <td>37.827501</td>\n",
              "      <td>22.882499</td>\n",
              "      <td>1.369971</td>\n",
              "    </tr>\n",
              "    <tr>\n",
              "      <th>max</th>\n",
              "      <td>2872.870117</td>\n",
              "      <td>184.589996</td>\n",
              "      <td>117.480003</td>\n",
              "      <td>47.259998</td>\n",
              "      <td>1.598798</td>\n",
              "    </tr>\n",
              "  </tbody>\n",
              "</table>\n",
              "</div>"
            ],
            "text/plain": [
              "               SPX          GLD          USO          SLV      EUR/USD\n",
              "count  2290.000000  2290.000000  2290.000000  2290.000000  2290.000000\n",
              "mean   1654.315776   122.732875    31.842221    20.084997     1.283653\n",
              "std     519.111540    23.283346    19.523517     7.092566     0.131547\n",
              "min     676.530029    70.000000     7.960000     8.850000     1.039047\n",
              "25%    1239.874969   109.725000    14.380000    15.570000     1.171313\n",
              "50%    1551.434998   120.580002    33.869999    17.268500     1.303296\n",
              "75%    2073.010070   132.840004    37.827501    22.882499     1.369971\n",
              "max    2872.870117   184.589996   117.480003    47.259998     1.598798"
            ]
          },
          "metadata": {
            "tags": []
          },
          "execution_count": 12
        }
      ]
    },
    {
      "cell_type": "markdown",
      "metadata": {
        "id": "54IrL0J06Xni"
      },
      "source": [
        "Types of Correlation:\n",
        "1. Positive Correlation\n",
        "2. Negative Correlation"
      ]
    },
    {
      "cell_type": "code",
      "metadata": {
        "colab": {
          "base_uri": "https://localhost:8080/",
          "height": 488
        },
        "id": "RVZ0RA4u3pWu",
        "outputId": "170cb23c-f263-4fe3-c9ad-6e46edfbacfa"
      },
      "source": [
        "correlation = gold_data.corr()\n",
        "#constructing a heatmap to understand the correlation\n",
        "plt.figure(figsize = (8,8))\n",
        "sns.heatmap(correlation, cbar=True, square=True, fmt='.1f', annot=True, annot_kws={'size':8}, cmap='Reds') "
      ],
      "execution_count": 22,
      "outputs": [
        {
          "output_type": "execute_result",
          "data": {
            "text/plain": [
              "<matplotlib.axes._subplots.AxesSubplot at 0x7f4880020bd0>"
            ]
          },
          "metadata": {
            "tags": []
          },
          "execution_count": 22
        },
        {
          "output_type": "display_data",
          "data": {
            "image/png": "[encoded data removed]",
            "text/plain": [
              "<Figure size 576x576 with 2 Axes>"
            ]
          },
          "metadata": {
            "tags": [],
            "needs_background": "light"
          }
        }
      ]
    },
    {
      "cell_type": "code",
      "metadata": {
        "colab": {
          "base_uri": "https://localhost:8080/"
        },
        "id": "ME87o5fl664f",
        "outputId": "983ac986-70f1-48c3-ece5-cb581ec7d77c"
      },
      "source": [
        "#correlations values of GLD(Gold)\n",
        "print(correlation['GLD'])"
      ],
      "execution_count": 23,
      "outputs": [
        {
          "output_type": "stream",
          "text": [
            "SPX        0.049345\n",
            "GLD        1.000000\n",
            "USO       -0.186360\n",
            "SLV        0.866632\n",
            "EUR/USD   -0.024375\n",
            "Name: GLD, dtype: float64\n"
          ],
          "name": "stdout"
        }
      ]
    },
    {
      "cell_type": "code",
      "metadata": {
        "colab": {
          "base_uri": "https://localhost:8080/",
          "height": 358
        },
        "id": "_og_9VBh9Tso",
        "outputId": "857ff4ae-3826-478f-e50b-fed7b99b0f8b"
      },
      "source": [
        "#checking the ditribution of the GLD Prices\n",
        "sns.distplot(gold_data['GLD'], color='red')"
      ],
      "execution_count": 25,
      "outputs": [
        {
          "output_type": "stream",
          "text": [
            "/usr/local/lib/python3.7/dist-packages/seaborn/distributions.py:2557: FutureWarning: `distplot` is a deprecated function and will be removed in a future version. Please adapt your code to use either `displot` (a figure-level function with similar flexibility) or `histplot` (an axes-level function for histograms).\n",
            "  warnings.warn(msg, FutureWarning)\n"
          ],
          "name": "stderr"
        },
        {
          "output_type": "execute_result",
          "data": {
            "text/plain": [
              "<matplotlib.axes._subplots.AxesSubplot at 0x7f487b6cb510>"
            ]
          },
          "metadata": {
            "tags": []
          },
          "execution_count": 25
        },
        {
          "output_type": "display_data",
          "data": {
            "image/png": "[encoded data removed]",
            "text/plain": [
              "<Figure size 432x288 with 1 Axes>"
            ]
          },
          "metadata": {
            "tags": [],
            "needs_background": "light"
          }
        }
      ]
    },
    {
      "cell_type": "markdown",
      "metadata": {
        "id": "tyar4O7I-LMx"
      },
      "source": [
        "Splitting the Features and Traget"
      ]
    },
    {
      "cell_type": "code",
      "metadata": {
        "id": "2QgKRgTG9q6D"
      },
      "source": [
        "X = gold_data.drop(['Date','GLD'], axis=1)\n",
        "Y = gold_data['GLD']"
      ],
      "execution_count": 27,
      "outputs": []
    },
    {
      "cell_type": "code",
      "metadata": {
        "colab": {
          "base_uri": "https://localhost:8080/"
        },
        "id": "q5Cz7B4R-wdr",
        "outputId": "26c33938-4b34-4072-96dc-b3c8e5311ac0"
      },
      "source": [
        "print(X)"
      ],
      "execution_count": 28,
      "outputs": [
        {
          "output_type": "stream",
          "text": [
            "              SPX        USO      SLV   EUR/USD\n",
            "0     1447.160034  78.470001  15.1800  1.471692\n",
            "1     1447.160034  78.370003  15.2850  1.474491\n",
            "2     1411.630005  77.309998  15.1670  1.475492\n",
            "3     1416.180054  75.500000  15.0530  1.468299\n",
            "4     1390.189941  76.059998  15.5900  1.557099\n",
            "...           ...        ...      ...       ...\n",
            "2285  2671.919922  14.060000  15.5100  1.186789\n",
            "2286  2697.790039  14.370000  15.5300  1.184722\n",
            "2287  2723.070068  14.410000  15.7400  1.191753\n",
            "2288  2730.129883  14.380000  15.5600  1.193118\n",
            "2289  2725.780029  14.405800  15.4542  1.182033\n",
            "\n",
            "[2290 rows x 4 columns]\n"
          ],
          "name": "stdout"
        }
      ]
    },
    {
      "cell_type": "code",
      "metadata": {
        "colab": {
          "base_uri": "https://localhost:8080/"
        },
        "id": "t5idCJGg-2zN",
        "outputId": "665b25b8-b94a-47f6-8320-8cc8b9c870a1"
      },
      "source": [
        "print(Y)"
      ],
      "execution_count": 30,
      "outputs": [
        {
          "output_type": "stream",
          "text": [
            "0        84.860001\n",
            "1        85.570000\n",
            "2        85.129997\n",
            "3        84.769997\n",
            "4        86.779999\n",
            "           ...    \n",
            "2285    124.589996\n",
            "2286    124.330002\n",
            "2287    125.180000\n",
            "2288    124.489998\n",
            "2289    122.543800\n",
            "Name: GLD, Length: 2290, dtype: float64\n"
          ],
          "name": "stdout"
        }
      ]
    },
    {
      "cell_type": "markdown",
      "metadata": {
        "id": "trOquuJS_Hzd"
      },
      "source": [
        "Splitting into Training Data and Test Data "
      ]
    },
    {
      "cell_type": "code",
      "metadata": {
        "id": "jBDqDxTV-65r"
      },
      "source": [
        "X_train, X_test, Y_train, Y_test = train_test_split(X, Y, test_size= 0.2, random_state=2)"
      ],
      "execution_count": 31,
      "outputs": []
    },
    {
      "cell_type": "markdown",
      "metadata": {
        "id": "2w178q6BAJ5U"
      },
      "source": [
        "Model Training:\n",
        "Random Forest Regressor"
      ]
    },
    {
      "cell_type": "code",
      "metadata": {
        "id": "fpbS2NFDAEDh"
      },
      "source": [
        "regressor = RandomForestRegressor(n_estimators=100)"
      ],
      "execution_count": 33,
      "outputs": []
    },
    {
      "cell_type": "code",
      "metadata": {
        "colab": {
          "base_uri": "https://localhost:8080/"
        },
        "id": "Qhhq2VOiA71V",
        "outputId": "c657b940-bc8c-443d-a2c5-4d2090c4e5a3"
      },
      "source": [
        "#Train the Model\n",
        "regressor.fit(X_train, Y_train)"
      ],
      "execution_count": 34,
      "outputs": [
        {
          "output_type": "execute_result",
          "data": {
            "text/plain": [
              "RandomForestRegressor(bootstrap=True, ccp_alpha=0.0, criterion='mse',\n",
              "                      max_depth=None, max_features='auto', max_leaf_nodes=None,\n",
              "                      max_samples=None, min_impurity_decrease=0.0,\n",
              "                      min_impurity_split=None, min_samples_leaf=1,\n",
              "                      min_samples_split=2, min_weight_fraction_leaf=0.0,\n",
              "                      n_estimators=100, n_jobs=None, oob_score=False,\n",
              "                      random_state=None, verbose=0, warm_start=False)"
            ]
          },
          "metadata": {
            "tags": []
          },
          "execution_count": 34
        }
      ]
    },
    {
      "cell_type": "markdown",
      "metadata": {
        "id": "LjJ7IEhLBYEE"
      },
      "source": [
        "Model Evaluation"
      ]
    },
    {
      "cell_type": "code",
      "metadata": {
        "id": "MvpTt-ySBSgG"
      },
      "source": [
        "#prediction on test data\n",
        "test_data_prediction = regressor.predict(X_test)"
      ],
      "execution_count": 35,
      "outputs": []
    },
    {
      "cell_type": "code",
      "metadata": {
        "colab": {
          "base_uri": "https://localhost:8080/"
        },
        "id": "OF3nQbMgB1C4",
        "outputId": "6ae47677-4a3f-4d27-d1c7-a29cd1e17259"
      },
      "source": [
        "print(test_data_prediction)"
      ],
      "execution_count": 36,
      "outputs": [
        {
          "output_type": "stream",
          "text": [
            "[168.2883991   82.22269976 116.00330003 127.63900073 120.60640176\n",
            " 154.79039714 150.97279915 126.1035005  117.46779878 126.04640103\n",
            " 116.57030102 171.67930118 141.56599841 167.96169874 115.01580033\n",
            " 117.48340033 139.53220214 170.07850076 158.77670313 158.1497991\n",
            " 155.21900063 125.30209991 175.92289956 157.19300356 125.23310034\n",
            "  93.79459993  77.16070038 120.78060005 119.06029932 167.5477991\n",
            "  88.04810058 125.42780086  91.15250073 117.59590024 121.18439938\n",
            " 136.19240077 115.491301   115.38260079 148.33219942 107.13260071\n",
            " 104.65950261  87.18799776 126.57900053 117.73329996 153.45679839\n",
            " 119.65510006 108.30509984 107.95929851  93.22240042 127.08689788\n",
            "  74.76290059 113.56209909 121.42770014 111.26889885 118.92399906\n",
            " 120.82729955 158.52410042 167.7453012  146.95519667  85.82389857\n",
            "  94.41580028  86.87219873  90.6645     118.87720077 126.4294006\n",
            " 127.55470035 169.6819001  122.18009933 117.41229871  98.54150038\n",
            " 168.42710054 142.90589881 132.1129026  121.13790218 121.45649955\n",
            " 119.87230087 114.47810146 118.4796002  107.03210105 127.89730061\n",
            " 114.05919968 107.48080005 117.0857006  119.68999889  89.03850068\n",
            "  88.2492988  146.12080201 127.28420093 113.52190016 109.57129832\n",
            " 107.99299909  77.59609909 169.3928018  114.06339925 121.78019855\n",
            " 127.78330174 154.89709792  91.67229904 135.18360142 159.52560359\n",
            " 125.04530088 125.4170006  130.6355016  114.75140127 119.69319999\n",
            "  92.13169979 110.02629919 167.70609976 156.54059937 114.29009953\n",
            " 106.45200174  78.92240005 113.27390035 125.91990092 106.99689933\n",
            " 119.21770097 156.24830295 159.33109841 120.32109984 135.39130242\n",
            " 101.41489996 117.63549769 119.2950003  113.04510096 102.80019936\n",
            " 160.10449721  98.89640069 147.61269982 125.39930106 169.823599\n",
            " 125.75349873 127.39679754 127.5679022  113.76769926 113.03050069\n",
            " 123.48059899 102.1439989   89.02979999 124.65259978 101.08949923\n",
            " 106.93619923 113.18470079 117.40240051  99.06169951 121.88850025\n",
            " 163.50789893  87.34279846 106.96519965 117.36080052 127.72850094\n",
            " 124.19230085  80.91159904 120.42930062 158.43459759  87.86629998\n",
            " 110.27979929 119.0258991  172.44239908 102.99619901 105.61080075\n",
            " 122.46480022 159.07229698  87.4442986   93.17260051 112.82419988\n",
            " 177.54209936 114.4388999  119.32950022  94.80040075 125.60160002\n",
            " 166.0005011  114.74000095 116.96620106  88.37599891 148.94470138\n",
            " 120.29969923  89.60299945 111.98319978 117.12360039 118.84090097\n",
            "  88.28329974  94.43209992 117.24700009 118.44180164 120.24080012\n",
            " 126.75689817 121.9491997  150.71140048 165.28870055 118.60549966\n",
            " 120.41400159 150.90860013 118.63119876 172.40279884 105.01369941\n",
            " 105.03330107 150.18630158 113.84510046 124.77300133 147.46459935\n",
            " 119.54560122 115.44770063 112.72769987 113.55510193 140.40570061\n",
            " 117.94799766 102.91710043 115.86470108 103.8803018   98.69940064\n",
            " 117.59410075  90.73180015  91.6317005  153.51979878 102.71369985\n",
            " 155.08830087 114.34660176 137.83290177  90.09889845 115.56709959\n",
            " 114.8866999  122.7611005  121.81310014 165.46530133  92.91919985\n",
            " 135.31310183 121.36259908 120.72070087 104.7006001  143.41950295\n",
            " 121.71879894 116.6757005  113.62310063 127.03969694 122.79919946\n",
            " 125.82859924 121.2212003   86.85799883 132.59400161 142.95240245\n",
            "  92.66629992 158.97929973 159.45200278 126.08559948 165.48419923\n",
            " 108.91769966 109.37240099 103.68369827  94.41350082 127.44850274\n",
            " 107.239      162.17490002 121.84610013 131.88039976 130.63720113\n",
            " 160.13790023  90.08479865 176.07440161 127.59710033 126.63139862\n",
            "  86.60749952 124.42929979 150.23099712  89.74559978 106.98959967\n",
            " 108.92859989  84.72009917 135.82319971 154.57860271 140.64990331\n",
            "  73.99440013 152.48600084 126.26339996 126.79530005 127.59949834\n",
            " 108.63639934 156.41850029 114.51640107 116.92410102 125.38939929\n",
            " 154.07680124 121.30639992 156.45359853  92.89220036 125.59920164\n",
            " 125.72610013  87.99990062  92.17999929 126.14609968 128.25970273\n",
            " 113.14160062 117.65549732 120.91370001 127.02399761 119.6536013\n",
            " 136.20490103  94.01569929 119.64710013 113.30790124  94.33829938\n",
            " 108.82819985  87.62199948 109.04689975  89.78349986  92.43530034\n",
            " 131.91930313 162.62359962  89.29980004 119.75980097 133.51850164\n",
            " 123.87289996 128.39690146 101.99519846  88.92049901 131.67950086\n",
            " 119.95980042 108.60280011 168.55180014 115.08840049  86.58779874\n",
            " 118.94700089  91.08879949 162.00650061 116.79480066 121.62320011\n",
            " 160.37809793 120.06079932 112.77279924 108.46359868 127.01380067\n",
            "  76.00470022 103.00059983 127.23800246 121.65959914  92.65400068\n",
            " 132.50600087 118.18150099 115.99829997 154.598103   159.49510074\n",
            " 109.95849936 152.51099769 119.27360113 160.08320007 118.55570019\n",
            " 157.67959923 115.1971993  116.54230039 149.40689886 114.7464007\n",
            " 125.8813987  165.41159856 117.74089996 125.08599879 153.11560333\n",
            " 153.64460167 132.12120027 114.71710058 121.17030208 124.81590055\n",
            "  89.71680048 123.30720017 155.2109022  111.61180014 106.77590004\n",
            " 161.78940161 118.46989989 165.71050045 134.07990083 114.80699982\n",
            " 153.05069961 168.5856006  114.85900042 114.10670137 159.82869894\n",
            "  85.49039859 127.20160052 127.86300057 128.80740024 124.23650054\n",
            " 123.88590071  90.5814007  153.16010025  97.19819965 138.10959966\n",
            "  89.0994992  107.49450008 115.0405005  113.13100085 124.52159903\n",
            "  91.42599895 125.39100097 162.3104986  119.98739822 165.04860101\n",
            " 126.81559805 112.35119992 127.6340994   94.89419938  90.99449988\n",
            " 102.90309918 120.79730002  82.84779958 126.39940037 159.70810467\n",
            " 117.29460108 118.17579963 119.75819977 123.05389988 120.14370118\n",
            " 121.31939981 118.13060061 106.70369973 148.19579965 126.31829836\n",
            " 115.69180099  73.8473999  127.73980055 154.17030021 121.99789976\n",
            " 125.57490083  88.74290038 103.31119846 124.74810032 120.31400049\n",
            "  73.43210072 152.07980039 121.3497002  104.8895002   86.47359778\n",
            " 115.10659911 172.15699827 120.0192006  159.86589696 113.19839964\n",
            " 121.37840008 118.17920065  95.86149994 118.5788998  125.80150036\n",
            " 118.58229968  95.99360067 154.23400183 122.11990009 147.16199961\n",
            " 159.56200248 114.06990034 122.47429929 150.68779839 127.06250012\n",
            " 165.59090106 135.2057004  119.81210002 167.61689843 108.26879955\n",
            " 121.70289877 138.56940186 106.47979905]\n"
          ],
          "name": "stdout"
        }
      ]
    },
    {
      "cell_type": "code",
      "metadata": {
        "colab": {
          "base_uri": "https://localhost:8080/"
        },
        "id": "PADmdw3CB5c1",
        "outputId": "4e7ea50f-895c-4235-ebec-763bf731e92f"
      },
      "source": [
        "#now we are using R squared error\n",
        "error_score = metrics.r2_score(Y_test, test_data_prediction)\n",
        "print(\"R squared error : \", error_score)"
      ],
      "execution_count": 38,
      "outputs": [
        {
          "output_type": "stream",
          "text": [
            "R squared error :  0.9890853894833815\n"
          ],
          "name": "stdout"
        }
      ]
    },
    {
      "cell_type": "markdown",
      "metadata": {
        "id": "z5ab4LSDDN71"
      },
      "source": [
        "Compare the Actual Values and Predicted Values in Plot"
      ]
    },
    {
      "cell_type": "code",
      "metadata": {
        "id": "56MOCG7_CtSh"
      },
      "source": [
        "Y_test = list(Y_test)"
      ],
      "execution_count": 39,
      "outputs": []
    },
    {
      "cell_type": "code",
      "metadata": {
        "colab": {
          "base_uri": "https://localhost:8080/",
          "height": 295
        },
        "id": "vx8Wjb_bDmHB",
        "outputId": "f962135e-aae1-4601-ab2b-a4d743eec6a2"
      },
      "source": [
        "plt.plot(Y_test, color='red', label='Actual Values')\n",
        "plt.plot(test_data_prediction, color='blue', label='Predicted Values')\n",
        "plt.title('Actual Price vs Predicted Price')\n",
        "plt.xlabel('Number of values')\n",
        "plt.ylabel('GLD Price')\n",
        "plt.legend()\n",
        "plt.show()"
      ],
      "execution_count": 43,
      "outputs": [
        {
          "output_type": "display_data",
          "data": {
            "image/png": "[encoded data removed]",
            "text/plain": [
              "<Figure size 432x288 with 1 Axes>"
            ]
          },
          "metadata": {
            "tags": [],
            "needs_background": "light"
          }
        }
      ]
    },
    {
      "cell_type": "code",
      "metadata": {
        "id": "I5XmyDYkEsli"
      },
      "source": [
        ""
      ],
      "execution_count": null,
      "outputs": []
    }
  ]
}